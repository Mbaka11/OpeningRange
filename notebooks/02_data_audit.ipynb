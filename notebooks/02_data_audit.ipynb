{
 "cells": [
  {
   "cell_type": "markdown",
   "id": "a4c94617",
   "metadata": {},
   "source": [
    "# 02 — Data Audit (Schema, Timezone & Session Coverage)\n",
    "\n",
    "**Goal.** Before any backtest, verify that our raw data cleanly supports the strategy’s session rules:\n",
    "- Timestamps parse correctly and map to **America/New_York** (NY) time.\n",
    "- **Opening Range (OR)** window **09:30–10:00 (inclusive)** has all expected minutes (31 bars).\n",
    "- The trading window **09:30–12:00** is complete, and both **10:22** (entry) and **12:00** (hard exit) bars exist.\n",
    "- Days with gaps, duplicates, or anomalies are **excluded with a clear reason**.\n",
    "\n",
    "**Inputs.**\n",
    "- Raw 1-minute CSVs in `data/raw/`, semicolon `;` delimited, **no header**  \n",
    "  Columns: `datetime;open;high;low;close;volume`  \n",
    "- Config files (single source of truth):  \n",
    "  - `config/strategy.yml`  → zones, SL/TP, one-trade/day  \n",
    "  - `config/instruments.yml` → timezone, OR/entry/exit times, costs, data schema\n",
    "\n",
    "**Outputs of this notebook.**\n",
    "- `reports/tables/valid_days.csv` — dates that passed all checks with OR stats  \n",
    "- `reports/tables/exclusion_log.csv` — dates we skipped **and why**  \n",
    "- 2–3 quick visuals for coverage and OR-range distribution\n",
    "\n",
    "> **Why this matters.** Clean coverage prevents hidden biases (like missing 10:22) and makes backtest results **reproducible** and **trustworthy**.\n",
    "\n",
    "---\n"
   ]
  },
  {
   "cell_type": "markdown",
   "id": "e7a5eac2",
   "metadata": {},
   "source": [
    "###  2.1 — Imports, paths, and config preview (no data read yet)"
   ]
  },
  {
   "cell_type": "code",
   "execution_count": 2,
   "id": "8d8246a8",
   "metadata": {},
   "outputs": [
    {
     "name": "stdout",
     "output_type": "stream",
     "text": [
      "ROOT: d:\\Projects\\OpeningRange\n",
      "CONFIG_DIR: d:\\Projects\\OpeningRange\\config\n",
      "DATA_RAW_DIR: d:\\Projects\\OpeningRange\\data\\raw\n"
     ]
    },
    {
     "data": {
      "text/html": [
       "<div>\n",
       "<style scoped>\n",
       "    .dataframe tbody tr th:only-of-type {\n",
       "        vertical-align: middle;\n",
       "    }\n",
       "\n",
       "    .dataframe tbody tr th {\n",
       "        vertical-align: top;\n",
       "    }\n",
       "\n",
       "    .dataframe thead th {\n",
       "        text-align: right;\n",
       "    }\n",
       "</style>\n",
       "<table border=\"1\" class=\"dataframe\">\n",
       "  <thead>\n",
       "    <tr style=\"text-align: right;\">\n",
       "      <th></th>\n",
       "      <th>Instrument</th>\n",
       "      <th>Timezone</th>\n",
       "      <th>OR Start</th>\n",
       "      <th>OR End (inclusive)</th>\n",
       "      <th>Entry Time</th>\n",
       "      <th>Hard Exit</th>\n",
       "      <th>Top Zone %</th>\n",
       "      <th>Bottom Zone %</th>\n",
       "      <th>SL (pts)</th>\n",
       "      <th>TP (pts)</th>\n",
       "      <th>$/point</th>\n",
       "      <th>Tick size</th>\n",
       "      <th>Fees/side ($)</th>\n",
       "      <th>Slippage (pts)</th>\n",
       "      <th>Delimiter</th>\n",
       "      <th>Datetime fmt</th>\n",
       "      <th>Source TZ</th>\n",
       "      <th>Has premarket</th>\n",
       "    </tr>\n",
       "  </thead>\n",
       "  <tbody>\n",
       "    <tr>\n",
       "      <th>0</th>\n",
       "      <td>NSXUSD</td>\n",
       "      <td>America/New_York</td>\n",
       "      <td>09:30</td>\n",
       "      <td>10:00</td>\n",
       "      <td>10:22</td>\n",
       "      <td>12:00</td>\n",
       "      <td>0.35</td>\n",
       "      <td>0.35</td>\n",
       "      <td>25</td>\n",
       "      <td>75</td>\n",
       "      <td>80.0</td>\n",
       "      <td>None</td>\n",
       "      <td>0.0</td>\n",
       "      <td>0.0</td>\n",
       "      <td>;</td>\n",
       "      <td>%Y%m%d %H%M%S</td>\n",
       "      <td>None</td>\n",
       "      <td>False</td>\n",
       "    </tr>\n",
       "  </tbody>\n",
       "</table>\n",
       "</div>"
      ],
      "text/plain": [
       "  Instrument          Timezone OR Start OR End (inclusive) Entry Time Hard Exit  Top Zone %  Bottom Zone %  SL (pts)  TP (pts)  $/point  \\\n",
       "0     NSXUSD  America/New_York    09:30              10:00      10:22     12:00        0.35           0.35        25        75     80.0   \n",
       "\n",
       "  Tick size  Fees/side ($)  Slippage (pts) Delimiter   Datetime fmt Source TZ  Has premarket  \n",
       "0      None            0.0             0.0         ;  %Y%m%d %H%M%S      None          False  "
      ]
     },
     "metadata": {},
     "output_type": "display_data"
    },
    {
     "name": "stdout",
     "output_type": "stream",
     "text": [
      "\n",
      "Policies snapshot:\n"
     ]
    },
    {
     "data": {
      "text/plain": [
       "require_complete_or_window           True\n",
       "require_entry_bar                    True\n",
       "require_exit_bar                     True\n",
       "skip_zero_or_range                   True\n",
       "min_or_range_points                   0.0\n",
       "skip_days_with_gaps                  True\n",
       "skip_days_with_premarket_detected    True\n",
       "Name: value, dtype: object"
      ]
     },
     "metadata": {},
     "output_type": "display_data"
    }
   ],
   "source": [
    "# 2.1 — Imports, paths, and config preview (no data read yet)\n",
    "\n",
    "from pathlib import Path\n",
    "import pandas as pd\n",
    "import yaml\n",
    "\n",
    "# Pretty printing\n",
    "pd.set_option(\"display.width\", 140)\n",
    "pd.set_option(\"display.max_columns\", 30)\n",
    "\n",
    "# Project layout\n",
    "ROOT = Path.cwd().parent if Path.cwd().name == \"notebooks\" else Path.cwd()\n",
    "CONFIG_DIR = ROOT / \"config\"\n",
    "DATA_RAW_DIR = ROOT / \"data\" / \"raw\"\n",
    "REPORTS_TBLS = ROOT / \"reports\" / \"tables\"\n",
    "REPORTS_FIGS = ROOT / \"reports\" / \"figures\"\n",
    "\n",
    "for d in (REPORTS_TBLS, REPORTS_FIGS):\n",
    "    d.mkdir(parents=True, exist_ok=True)\n",
    "\n",
    "def load_yaml(p: Path):\n",
    "    with open(p, \"r\", encoding=\"utf-8\") as f:\n",
    "        return yaml.safe_load(f)\n",
    "\n",
    "# Load configs (single source of truth)\n",
    "STRATEGY = load_yaml(CONFIG_DIR / \"strategy.yml\")\n",
    "INSTR    = load_yaml(CONFIG_DIR / \"instruments.yml\")\n",
    "\n",
    "# Extract frequently used fields for a quick human check\n",
    "session = INSTR.get(\"session\", {})\n",
    "data_cfg = INSTR.get(\"data\", {})\n",
    "policies = INSTR.get(\"policies\", {})\n",
    "market   = INSTR.get(\"market\", {})\n",
    "costs    = INSTR.get(\"costs\", {})\n",
    "\n",
    "summary = pd.DataFrame.from_dict({\n",
    "    \"Instrument\": [market.get(\"instrument\", \"TBD\")],\n",
    "    \"Timezone\": [session.get(\"timezone\", \"America/New_York\")],\n",
    "    \"OR Start\": [session.get(\"or_window\", {}).get(\"start\", \"09:30\")],\n",
    "    \"OR End (inclusive)\": [session.get(\"or_window\", {}).get(\"end_inclusive\", \"10:00\")],\n",
    "    \"Entry Time\": [session.get(\"entry_time\", \"10:22\")],\n",
    "    \"Hard Exit\": [session.get(\"hard_exit_time\", \"12:00\")],\n",
    "    \"Top Zone %\": [STRATEGY.get(\"parameters\", {}).get(\"zones\", {}).get(\"top_pct\", 0.35)],\n",
    "    \"Bottom Zone %\": [STRATEGY.get(\"parameters\", {}).get(\"zones\", {}).get(\"bottom_pct\", 0.35)],\n",
    "    \"SL (pts)\": [STRATEGY.get(\"parameters\", {}).get(\"risk\", {}).get(\"stop_loss_points\", 25)],\n",
    "    \"TP (pts)\": [STRATEGY.get(\"parameters\", {}).get(\"risk\", {}).get(\"take_profit_points\", 75)],\n",
    "    \"$/point\": [market.get(\"point_value_usd\", 80.0)],\n",
    "    \"Tick size\": [market.get(\"tick_size\", None)],\n",
    "    \"Fees/side ($)\": [costs.get(\"fees_per_side_usd\", 0.0)],\n",
    "    \"Slippage (pts)\": [costs.get(\"slippage_points\", 0.0)],\n",
    "    \"Delimiter\": [data_cfg.get(\"delimiter\", \";\")],\n",
    "    \"Datetime fmt\": [data_cfg.get(\"datetime_format\", \"%Y%m%d %H%M%S\")],\n",
    "    \"Source TZ\": [data_cfg.get(\"source_timezone\", None)],\n",
    "    \"Has premarket\": [data_cfg.get(\"has_premarket\", False)],\n",
    "})\n",
    "\n",
    "print(\"ROOT:\", ROOT)\n",
    "print(\"CONFIG_DIR:\", CONFIG_DIR)\n",
    "print(\"DATA_RAW_DIR:\", DATA_RAW_DIR)\n",
    "display(summary)\n",
    "\n",
    "print(\"\\nPolicies snapshot:\")\n",
    "display(pd.Series(policies, name=\"value\"))\n"
   ]
  },
  {
   "cell_type": "markdown",
   "id": "070e01d6",
   "metadata": {},
   "source": [
    "### 2.2 — File Discovery & Schema Validation\n",
    "\n",
    "**What we do now (read this first):**\n",
    "\n",
    "* List CSV files in `data/raw/`.\n",
    "* Read a **small sample** from each file using the configured delimiter and expected schema (6 columns, no header).\n",
    "* Validate that the sample rows look right:\n",
    "\n",
    "  * `datetime` matches the configured `datetime_format`.\n",
    "  * `open/high/low/close` are numeric.\n",
    "  * `volume` is numeric.\n",
    "* Produce a small **table** summarizing pass/fail per file and notes.\n",
    "  *(No timezone mapping or session slicing yet—this is just a quick sanity check.)*"
   ]
  },
  {
   "cell_type": "code",
   "execution_count": null,
   "id": "cdea39ae",
   "metadata": {},
   "outputs": [],
   "source": []
  }
 ],
 "metadata": {
  "kernelspec": {
   "display_name": "venv",
   "language": "python",
   "name": "python3"
  },
  "language_info": {
   "codemirror_mode": {
    "name": "ipython",
    "version": 3
   },
   "file_extension": ".py",
   "mimetype": "text/x-python",
   "name": "python",
   "nbconvert_exporter": "python",
   "pygments_lexer": "ipython3",
   "version": "3.10.11"
  }
 },
 "nbformat": 4,
 "nbformat_minor": 5
}
