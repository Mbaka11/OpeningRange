{
 "cells": [
  {
   "cell_type": "markdown",
   "id": "fe578a64",
   "metadata": {},
   "source": [
    "# Notebook 4 — Parameter Robustness\n",
    "\n",
    "**Goal.** Check that the strategy’s edge is not a lucky setting.  \n",
    "We’ll sweep parameters and compare **Profit Factor**, **Expectancy ($/trade)**, and **Max Drawdown**.\n",
    "\n",
    "**Plan for this notebook**\n",
    "- **4.1** Setup & helpers (reuse data, add a temporary override context).\n",
    "- **4.2** **Entry time** sweep (10:10 → 10:35).\n",
    "- (Next) **4.3** Zone cutoffs (top/bottom %) sweep.\n",
    "- (Next) **4.4** SL/TP grid.\n",
    "\n",
    "**Train/Test mindset (no ML):** We’ll do sweeps on a **training period** first (2020–2021) and later confirm on 2022–2023.\n"
   ]
  }
 ],
 "metadata": {
  "language_info": {
   "name": "python"
  }
 },
 "nbformat": 4,
 "nbformat_minor": 5
}
